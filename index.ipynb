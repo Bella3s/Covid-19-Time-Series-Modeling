{
 "cells": [
  {
   "cell_type": "markdown",
   "metadata": {},
   "source": [
    "# Covid-19 Time Series Modeling\n",
    "\n",
    "- Flex\n",
    "- Instructor: Morgan Jones\n",
    "- Blog: \n",
    "- Date of Review:"
   ]
  },
  {
   "cell_type": "markdown",
   "metadata": {},
   "source": [
    "# Abstract"
   ]
  },
  {
   "cell_type": "markdown",
   "metadata": {},
   "source": [
    "# Introduction\n",
    "\n",
    "## The Business Problem\n",
    "\n",
    "- Covid-19 Epidemic"
   ]
  },
  {
   "cell_type": "markdown",
   "metadata": {},
   "source": [
    "##  This Project | The Business + Business Problem\n",
    "\n",
    "- company akin to WHO --> create time series model of the epidemic to forcast "
   ]
  },
  {
   "cell_type": "markdown",
   "metadata": {},
   "source": [
    "## The Data Source\n"
   ]
  },
  {
   "cell_type": "markdown",
   "metadata": {},
   "source": [
    "### Reproducing via Google CoLabs\n",
    "\n",
    "- detailed instructions on how to download AND\n",
    "- write script to download data from source(s)"
   ]
  },
  {
   "cell_type": "markdown",
   "metadata": {},
   "source": [
    "# Data Exploration\n",
    "\n",
    "- what data are we working with?\n",
    "- columns? which ones keep/disregard + why?\n",
    "- what is business prob? need to modify data in any way to address this?\n",
    "- look for trends + seasonality\n",
    "- look for key 'turning points' --> when vaccine was released \n",
    "    - provide supporting evidence here if needed\n",
    "- other descriptive statistics for a feel of what data we are working with\n",
    "    - graphs of data over time (deaths, confirmed cases, recovered, vaccinated)\n",
    "    - histograms?\n",
    "    - visual of data on country or region basis?"
   ]
  },
  {
   "cell_type": "markdown",
   "metadata": {},
   "source": [
    "# Modeling\n",
    "\n",
    "- Baseline --> naive forecasting (data shifted by one time-step)\n",
    "- ARIMA and/or SARIMA\n",
    "- grid search/pmdarima.auto_arima (?) "
   ]
  },
  {
   "cell_type": "markdown",
   "metadata": {},
   "source": [
    "## Basline  \n",
    "\n",
    "- One shift"
   ]
  },
  {
   "cell_type": "markdown",
   "metadata": {},
   "source": [
    "## Model 2"
   ]
  },
  {
   "cell_type": "markdown",
   "metadata": {},
   "source": [
    "## Model 3"
   ]
  },
  {
   "cell_type": "markdown",
   "metadata": {},
   "source": [
    "## All Model Comparison"
   ]
  },
  {
   "cell_type": "markdown",
   "metadata": {},
   "source": [
    "# Final Model Evaluation"
   ]
  },
  {
   "cell_type": "markdown",
   "metadata": {},
   "source": [
    "# Conclusion + Recommendations"
   ]
  }
 ],
 "metadata": {
  "kernelspec": {
   "display_name": "Python (learn-env)",
   "language": "python",
   "name": "learn-env"
  },
  "language_info": {
   "codemirror_mode": {
    "name": "ipython",
    "version": 3
   },
   "file_extension": ".py",
   "mimetype": "text/x-python",
   "name": "python",
   "nbconvert_exporter": "python",
   "pygments_lexer": "ipython3",
   "version": "3.8.5"
  }
 },
 "nbformat": 4,
 "nbformat_minor": 4
}
