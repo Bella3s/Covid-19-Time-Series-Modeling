{
 "cells": [
  {
   "cell_type": "markdown",
   "metadata": {},
   "source": [
    "# Covid-19 Time Series Modeling\n",
    "\n",
    "- Flex\n",
    "- Instructor: Morgan Jones\n",
    "- Blog: \n",
    "- Date of Review:"
   ]
  },
  {
   "cell_type": "markdown",
   "metadata": {},
   "source": [
    "# Abstract"
   ]
  },
  {
   "cell_type": "markdown",
   "metadata": {},
   "source": [
    "# Introduction\n",
    "\n",
    "## The Business Problem\n",
    "\n",
    "- Covid-19 Epidemic"
   ]
  },
  {
   "cell_type": "markdown",
   "metadata": {},
   "source": [
    "##  This Project | The Business + Business Problem\n",
    "\n",
    "- company akin to WHO --> create time series model of the epidemic to forcast "
   ]
  },
  {
   "cell_type": "markdown",
   "metadata": {},
   "source": [
    "## The Data Source\n",
    " - git hub read me description --> https://github.com/owid/covid-19-data/blob/master/public/data/README.md\n",
    " \n",
    " - Our World in Data [Kaggle](https://www.kaggle.com/datasets/caesarmario/our-world-in-data-covid19-dataset)\n",
    " \n",
    " - Our World in Data, original site --> https://ourworldindata.org/explorers/coronavirus-data-explorer\n",
    " \n",
    " - WHO data"
   ]
  },
  {
   "cell_type": "markdown",
   "metadata": {},
   "source": [
    "### Reproducing via Google CoLabs\n",
    "\n",
    "- detailed instructions on how to download AND\n",
    "- write script to download data from source(s)"
   ]
  },
  {
   "cell_type": "code",
   "execution_count": 21,
   "metadata": {},
   "outputs": [],
   "source": [
    "# Import Needed Libraries\n",
    "\n",
    "import json\n",
    "import shutil\n",
    "import pandas as pd\n",
    "import numpy as np\n",
    "\n",
    "import matplotlib.pyplot as plt\n",
    "%matplotlib inline\n",
    "import seaborn as sns\n",
    "sns.set_style('dark')\n",
    "\n",
    "from shapely.geometry import Point\n",
    "import geopandas as gpd\n",
    "from geopandas import GeoDataFrame"
   ]
  },
  {
   "cell_type": "code",
   "execution_count": 2,
   "metadata": {},
   "outputs": [
    {
     "name": "stdout",
     "output_type": "stream",
     "text": [
      "Python |  3.8.5\n",
      "Pandas |  1.1.3\n",
      "Numpy |  1.18.5\n",
      "Matplotlib |  3.3.1\n",
      "Seaborn |  0.11.0\n",
      "Geopandas |  0.13.2\n"
     ]
    }
   ],
   "source": [
    "# Versions\n",
    "import sys\n",
    "import matplotlib\n",
    "\n",
    "print('Python | ', sys.version[:5])\n",
    "print('Pandas | ', pd.__version__)\n",
    "print('Numpy | ', np.__version__)\n",
    "print('Matplotlib | ', matplotlib.__version__)\n",
    "print('Seaborn | ', sns.__version__)\n",
    "print('Geopandas | ', gpd.__version__)"
   ]
  },
  {
   "cell_type": "code",
   "execution_count": null,
   "metadata": {},
   "outputs": [],
   "source": [
    "# Prep Google CoLab environment to download data from Kaggle\n",
    "#!mkdir ~/.kaggle\n",
    "#!touch ~/.kaggle/kaggle.json\n",
    "\n",
    "#username = ''  ## Your Kaggle username\n",
    "#api_key = ''  ## Your Kaggle API key\n",
    "\n",
    "#api_token = {\"username\": username,\n",
    "#             \"key\": api_key}\n",
    "\n",
    "#with open('/root/.kaggle/kaggle.json', 'w') as file:\n",
    "#    json.dump(api_token, file)\n",
    "\n",
    "#!chmod 600 ~/.kaggle/kaggle.json"
   ]
  },
  {
   "cell_type": "code",
   "execution_count": null,
   "metadata": {},
   "outputs": [],
   "source": [
    "# Download the dataset from Kaggle\n",
    "#!kaggle datasets download -d caesarmario/our-world-in-data-covid19-dataset\n",
    "#!kaggle datasets download -d paultimothymooney/latitude-and-longitude-for-every-country-and-state"
   ]
  },
  {
   "cell_type": "code",
   "execution_count": null,
   "metadata": {},
   "outputs": [],
   "source": [
    "# This cell unzips the downloaded data\n",
    "#shutil.unpack_archive('our-world-in-data-covid19-dataset.zip', '/content')\n",
    "#shutil.unpack_archive('latitude-and-longitude-for-every-country-and-state.zip', '/content')"
   ]
  },
  {
   "cell_type": "markdown",
   "metadata": {},
   "source": [
    "# Data Exploration\n",
    "\n",
    "- what data are we working with?\n",
    "- columns? which ones keep/disregard + why?\n",
    "- what is business prob? need to modify data in any way to address this?\n",
    "- look for trends + seasonality\n",
    "- look for key 'turning points' --> when vaccine was released \n",
    "    - provide supporting evidence here if needed\n",
    "- other descriptive statistics for a feel of what data we are working with\n",
    "    - graphs of data over time (deaths, confirmed cases, recovered, vaccinated)\n",
    "    - histograms?\n",
    "    - visual of data on country or region basis?"
   ]
  },
  {
   "cell_type": "code",
   "execution_count": 3,
   "metadata": {},
   "outputs": [
    {
     "name": "stdout",
     "output_type": "stream",
     "text": [
      "<class 'pandas.core.frame.DataFrame'>\n",
      "RangeIndex: 350085 entries, 0 to 350084\n",
      "Data columns (total 67 columns):\n",
      " #   Column                                      Non-Null Count   Dtype  \n",
      "---  ------                                      --------------   -----  \n",
      " 0   iso_code                                    350085 non-null  object \n",
      " 1   continent                                   333420 non-null  object \n",
      " 2   location                                    350085 non-null  object \n",
      " 3   date                                        350085 non-null  object \n",
      " 4   total_cases                                 312088 non-null  float64\n",
      " 5   new_cases                                   340457 non-null  float64\n",
      " 6   new_cases_smoothed                          339198 non-null  float64\n",
      " 7   total_deaths                                290501 non-null  float64\n",
      " 8   new_deaths                                  340511 non-null  float64\n",
      " 9   new_deaths_smoothed                         339281 non-null  float64\n",
      " 10  total_cases_per_million                     312088 non-null  float64\n",
      " 11  new_cases_per_million                       340457 non-null  float64\n",
      " 12  new_cases_smoothed_per_million              339198 non-null  float64\n",
      " 13  total_deaths_per_million                    290501 non-null  float64\n",
      " 14  new_deaths_per_million                      340511 non-null  float64\n",
      " 15  new_deaths_smoothed_per_million             339281 non-null  float64\n",
      " 16  reproduction_rate                           184817 non-null  float64\n",
      " 17  icu_patients                                37615 non-null   float64\n",
      " 18  icu_patients_per_million                    37615 non-null   float64\n",
      " 19  hosp_patients                               38902 non-null   float64\n",
      " 20  hosp_patients_per_million                   38902 non-null   float64\n",
      " 21  weekly_icu_admissions                       10205 non-null   float64\n",
      " 22  weekly_icu_admissions_per_million           10205 non-null   float64\n",
      " 23  weekly_hosp_admissions                      23253 non-null   float64\n",
      " 24  weekly_hosp_admissions_per_million          23253 non-null   float64\n",
      " 25  total_tests                                 79387 non-null   float64\n",
      " 26  new_tests                                   75403 non-null   float64\n",
      " 27  total_tests_per_thousand                    79387 non-null   float64\n",
      " 28  new_tests_per_thousand                      75403 non-null   float64\n",
      " 29  new_tests_smoothed                          103965 non-null  float64\n",
      " 30  new_tests_smoothed_per_thousand             103965 non-null  float64\n",
      " 31  positive_rate                               95927 non-null   float64\n",
      " 32  tests_per_case                              94348 non-null   float64\n",
      " 33  tests_units                                 106788 non-null  object \n",
      " 34  total_vaccinations                          79308 non-null   float64\n",
      " 35  people_vaccinated                           75911 non-null   float64\n",
      " 36  people_fully_vaccinated                     72575 non-null   float64\n",
      " 37  total_boosters                              47562 non-null   float64\n",
      " 38  new_vaccinations                            65346 non-null   float64\n",
      " 39  new_vaccinations_smoothed                   180718 non-null  float64\n",
      " 40  total_vaccinations_per_hundred              79308 non-null   float64\n",
      " 41  people_vaccinated_per_hundred               75911 non-null   float64\n",
      " 42  people_fully_vaccinated_per_hundred         72575 non-null   float64\n",
      " 43  total_boosters_per_hundred                  47562 non-null   float64\n",
      " 44  new_vaccinations_smoothed_per_million       180718 non-null  float64\n",
      " 45  new_people_vaccinated_smoothed              180489 non-null  float64\n",
      " 46  new_people_vaccinated_smoothed_per_hundred  180489 non-null  float64\n",
      " 47  stringency_index                            197651 non-null  float64\n",
      " 48  population_density                          297178 non-null  float64\n",
      " 49  median_age                                  276367 non-null  float64\n",
      " 50  aged_65_older                               266708 non-null  float64\n",
      " 51  aged_70_older                               273597 non-null  float64\n",
      " 52  gdp_per_capita                              270863 non-null  float64\n",
      " 53  extreme_poverty                             174561 non-null  float64\n",
      " 54  cardiovasc_death_rate                       271487 non-null  float64\n",
      " 55  diabetes_prevalence                         285303 non-null  float64\n",
      " 56  female_smokers                              203659 non-null  float64\n",
      " 57  male_smokers                                200889 non-null  float64\n",
      " 58  handwashing_facilities                      132973 non-null  float64\n",
      " 59  hospital_beds_per_thousand                  239669 non-null  float64\n",
      " 60  life_expectancy                             322072 non-null  float64\n",
      " 61  human_development_index                     263138 non-null  float64\n",
      " 62  population                                  350085 non-null  float64\n",
      " 63  excess_mortality_cumulative_absolute        12184 non-null   float64\n",
      " 64  excess_mortality_cumulative                 12184 non-null   float64\n",
      " 65  excess_mortality                            12184 non-null   float64\n",
      " 66  excess_mortality_cumulative_per_million     12184 non-null   float64\n",
      "dtypes: float64(62), object(5)\n",
      "memory usage: 179.0+ MB\n"
     ]
    }
   ],
   "source": [
    "df = pd.read_csv('owid-covid-data.csv')\n",
    "df.info()"
   ]
  },
  {
   "cell_type": "markdown",
   "metadata": {},
   "source": [
    "\n",
    "| Columns | Description | \n",
    "|:--|:--| \n",
    "| `continent` | Continent of the geographical location | \n",
    "| `location` | Geographical location | \n",
    "| `date` | Date of observation | \n",
    "| `new_cases` | New confirmed cases of COVID-19. Counts can include probable cases, where reported. In rare cases where our source reports a negative daily change due to a data correction, we set this metric to NA | \n",
    "| `new_cases_smoothed` | New confirmed cases of COVID-19 (7-day smoothed). Counts can include probable cases, where reported. | \n",
    "| `new_deaths` | New deaths attributed to COVID-19. Counts can include probable deaths, where reported. In rare cases where our source reports a negative daily change due to a data correction, we set this metric to NA. |\n",
    "| `new_deaths_smoothed` | New deaths attributed to COVID-19 (7-day smoothed). Counts can include probable deaths, where reported. |\n",
    "| `reproduction_rate` | Real-time estimate of the effective reproduction rate (R) of COVID-19. See https://github.com/crondonm/TrackingR/tree/main/Estimates-Database | \n",
    "| `icu_patients` | Number of COVID-19 patients in intensive care units (ICUs) on a given day. |\n",
    "| `hosp_patients` | Number of COVID-19 patients in hospital on a given day. |\n",
    "| `new_tests` | New tests for COVID-19 (only calculated for consecutive days). |\n",
    "| `new_tests_smoothed` | New tests for COVID-19 (7-day smoothed). For countries that don't report testing data on a daily basis, we assume that testing changed equally on a daily basis over any periods in which no data was reported. This produces a complete series of daily figures, which is then averaged over a rolling 7-day window |\n",
    "| `positive_rate` | The share of COVID-19 tests that are positive, given as a rolling 7-day average (this is the inverse of tests_per_case). |\n",
    "| `test_units` | Units used by the location to report its testing data. A country file can't contain mixed units. All metrics concerning testing data use the specified test unit. Valid units are 'people tested' (number of people tested), 'tests performed' (number of tests performed. a single person can be tested more than once in a given day) and 'samples tested' (number of samples tested. In some cases, more than one sample may be required to perform a given test.) | \n",
    "| `people_vaccinated` | Total number of people who received at least one vaccine dose | \n",
    "| `new_people_vaccinated_smoothed` | Daily number of people receiving their first vaccine dose (7-day smoothed) | \n",
    "| `new_vaccinations` | New COVID-19 vaccination doses administered (only calculated for consecutive days) | \n",
    "| `new_vaccinations_smoothed` | New COVID-19 vaccination doses administered (7-day smoothed). For countries that don't report vaccination data on a daily basis, we assume that vaccination changed equally on a daily basis over any periods in which no data was reported. This produces a complete series of daily figures, which is then averaged over a rolling 7-day window |\n",
    "| `total_boosters` | Total number of COVID-19 vaccination booster doses administered (doses administered beyond the number prescribed by the vaccination protocol) |\n",
    "| `stringency_index` | Government Response Stringency Index: composite measure based on 9 response indicators including school closures, workplace closures, and travel bans, rescaled to a value from 0 to 100 (100 = strictest response). | \n",
    "| `population_density` | Number of people divided by land area, measured in square kilometers, most recent year available | \n",
    "| `median_age` | Median age of the population, UN projection for 2020 | \n",
    "| `aged_70_older` | Share of the population that is 70 years and older in 2015 |\n",
    "| `gdp_per_capita` | Gross domestic product at purchasing power parity (constant 2011 international dollars), most recent year available | \n",
    "| `extreme_poverty` | Share of the population living in extreme poverty, most recent year available since 2010 | \n",
    "| `cardiovasc_death_rate` | Death rate from cardiovascular disease in 2017 (annual number of deaths per 100,000 people) | \n",
    "| `diabetes_prevalence` | Dabetes prevalence (% of population aged 20 to 79) in 2017 |\n",
    "| `female_smokers` | Share of women who smoke, most recent year available | \n",
    "| `male_smokers` | Share of men who smoke, most recent year available | \n",
    "| `handwashing_facilities` | Share of the population with basic handwashing facilities on premises, most recent year available |\n",
    "| `hospital_beds_per_thousand` | Hospital beds per 1,000 people, most recent year available since 2010 |\n",
    "| `life_expectancy` | Life expectancy at birth in 2019 | \n",
    "| `human_development_index` | A composite index measuring average achievement in three basic dimensions of human development—a long and healthy life, knowledge and a decent standard of living. Values for 2019, imported from http://hdr.undp.org/en/indicators/137506 | \n",
    "| `population` | Population (latest available values). See https://github.com/owid/covid-19-data/blob/master/scripts/input/un/population_latest.csv for full list of sources | \n",
    "\n"
   ]
  },
  {
   "cell_type": "code",
   "execution_count": 4,
   "metadata": {},
   "outputs": [],
   "source": [
    "# Choose which columns to use/drop\n",
    "cols_to_use = ['continent', 'location', 'date', 'new_cases_smoothed', 'new_deaths_smoothed',\n",
    "               'reproduction_rate', 'icu_patients', 'hosp_patients', 'new_tests_smoothed', \n",
    "               'positive_rate', 'tests_units', 'people_vaccinated', 'new_people_vaccinated_smoothed',\n",
    "               'total_boosters', 'new_vaccinations_smoothed', 'stringency_index', 'population_density', \n",
    "               'median_age', 'aged_70_older', 'gdp_per_capita', 'extreme_poverty', 'cardiovasc_death_rate',\n",
    "               'diabetes_prevalence', 'female_smokers', 'male_smokers', 'handwashing_facilities', \n",
    "               'hospital_beds_per_thousand', 'life_expectancy', 'human_development_index', 'population']\n",
    "df1 = df[cols_to_use]"
   ]
  },
  {
   "cell_type": "code",
   "execution_count": 5,
   "metadata": {},
   "outputs": [
    {
     "name": "stdout",
     "output_type": "stream",
     "text": [
      "<class 'pandas.core.frame.DataFrame'>\n",
      "RangeIndex: 350085 entries, 0 to 350084\n",
      "Data columns (total 30 columns):\n",
      " #   Column                          Non-Null Count   Dtype  \n",
      "---  ------                          --------------   -----  \n",
      " 0   continent                       333420 non-null  object \n",
      " 1   location                        350085 non-null  object \n",
      " 2   date                            350085 non-null  object \n",
      " 3   new_cases_smoothed              339198 non-null  float64\n",
      " 4   new_deaths_smoothed             339281 non-null  float64\n",
      " 5   reproduction_rate               184817 non-null  float64\n",
      " 6   icu_patients                    37615 non-null   float64\n",
      " 7   hosp_patients                   38902 non-null   float64\n",
      " 8   new_tests_smoothed              103965 non-null  float64\n",
      " 9   positive_rate                   95927 non-null   float64\n",
      " 10  tests_units                     106788 non-null  object \n",
      " 11  people_vaccinated               75911 non-null   float64\n",
      " 12  new_people_vaccinated_smoothed  180489 non-null  float64\n",
      " 13  total_boosters                  47562 non-null   float64\n",
      " 14  new_vaccinations_smoothed       180718 non-null  float64\n",
      " 15  stringency_index                197651 non-null  float64\n",
      " 16  population_density              297178 non-null  float64\n",
      " 17  median_age                      276367 non-null  float64\n",
      " 18  aged_70_older                   273597 non-null  float64\n",
      " 19  gdp_per_capita                  270863 non-null  float64\n",
      " 20  extreme_poverty                 174561 non-null  float64\n",
      " 21  cardiovasc_death_rate           271487 non-null  float64\n",
      " 22  diabetes_prevalence             285303 non-null  float64\n",
      " 23  female_smokers                  203659 non-null  float64\n",
      " 24  male_smokers                    200889 non-null  float64\n",
      " 25  handwashing_facilities          132973 non-null  float64\n",
      " 26  hospital_beds_per_thousand      239669 non-null  float64\n",
      " 27  life_expectancy                 322072 non-null  float64\n",
      " 28  human_development_index         263138 non-null  float64\n",
      " 29  population                      350085 non-null  float64\n",
      "dtypes: float64(26), object(4)\n",
      "memory usage: 80.1+ MB\n"
     ]
    }
   ],
   "source": [
    "df1.info()"
   ]
  },
  {
   "cell_type": "code",
   "execution_count": 6,
   "metadata": {},
   "outputs": [
    {
     "name": "stderr",
     "output_type": "stream",
     "text": [
      "<ipython-input-6-e448b256dc75>:1: SettingWithCopyWarning: \n",
      "A value is trying to be set on a copy of a slice from a DataFrame.\n",
      "Try using .loc[row_indexer,col_indexer] = value instead\n",
      "\n",
      "See the caveats in the documentation: https://pandas.pydata.org/pandas-docs/stable/user_guide/indexing.html#returning-a-view-versus-a-copy\n",
      "  df1['date'] = pd.to_datetime(df1['date'])\n"
     ]
    }
   ],
   "source": [
    "df1['date'] = pd.to_datetime(df1['date'])"
   ]
  },
  {
   "cell_type": "code",
   "execution_count": 7,
   "metadata": {},
   "outputs": [
    {
     "data": {
      "text/html": [
       "<div>\n",
       "<style scoped>\n",
       "    .dataframe tbody tr th:only-of-type {\n",
       "        vertical-align: middle;\n",
       "    }\n",
       "\n",
       "    .dataframe tbody tr th {\n",
       "        vertical-align: top;\n",
       "    }\n",
       "\n",
       "    .dataframe thead th {\n",
       "        text-align: right;\n",
       "    }\n",
       "</style>\n",
       "<table border=\"1\" class=\"dataframe\">\n",
       "  <thead>\n",
       "    <tr style=\"text-align: right;\">\n",
       "      <th></th>\n",
       "      <th>latitude</th>\n",
       "      <th>longitude</th>\n",
       "      <th>country</th>\n",
       "    </tr>\n",
       "  </thead>\n",
       "  <tbody>\n",
       "    <tr>\n",
       "      <th>0</th>\n",
       "      <td>42.546245</td>\n",
       "      <td>1.601554</td>\n",
       "      <td>Andorra</td>\n",
       "    </tr>\n",
       "    <tr>\n",
       "      <th>1</th>\n",
       "      <td>23.424076</td>\n",
       "      <td>53.847818</td>\n",
       "      <td>United Arab Emirates</td>\n",
       "    </tr>\n",
       "    <tr>\n",
       "      <th>2</th>\n",
       "      <td>33.939110</td>\n",
       "      <td>67.709953</td>\n",
       "      <td>Afghanistan</td>\n",
       "    </tr>\n",
       "    <tr>\n",
       "      <th>3</th>\n",
       "      <td>17.060816</td>\n",
       "      <td>-61.796428</td>\n",
       "      <td>Antigua and Barbuda</td>\n",
       "    </tr>\n",
       "    <tr>\n",
       "      <th>4</th>\n",
       "      <td>18.220554</td>\n",
       "      <td>-63.068615</td>\n",
       "      <td>Anguilla</td>\n",
       "    </tr>\n",
       "  </tbody>\n",
       "</table>\n",
       "</div>"
      ],
      "text/plain": [
       "    latitude  longitude               country\n",
       "0  42.546245   1.601554               Andorra\n",
       "1  23.424076  53.847818  United Arab Emirates\n",
       "2  33.939110  67.709953           Afghanistan\n",
       "3  17.060816 -61.796428   Antigua and Barbuda\n",
       "4  18.220554 -63.068615              Anguilla"
      ]
     },
     "execution_count": 7,
     "metadata": {},
     "output_type": "execute_result"
    }
   ],
   "source": [
    "lat_long = pd.read_csv('world_country_and_usa_states_latitude_and_longitude_values.csv')\n",
    "lat_long = lat_long[['latitude', 'longitude', 'country']]\n",
    "lat_long.head()"
   ]
  },
  {
   "cell_type": "code",
   "execution_count": 8,
   "metadata": {},
   "outputs": [],
   "source": [
    "df2 = pd.merge(df1,\n",
    "              lat_long,\n",
    "              left_on='location',\n",
    "              right_on='country',\n",
    "              how='left')"
   ]
  },
  {
   "cell_type": "code",
   "execution_count": 9,
   "metadata": {},
   "outputs": [
    {
     "name": "stdout",
     "output_type": "stream",
     "text": [
      "<class 'pandas.core.frame.DataFrame'>\n",
      "Int64Index: 350085 entries, 0 to 350084\n",
      "Data columns (total 33 columns):\n",
      " #   Column                          Non-Null Count   Dtype         \n",
      "---  ------                          --------------   -----         \n",
      " 0   continent                       333420 non-null  object        \n",
      " 1   location                        350085 non-null  object        \n",
      " 2   date                            350085 non-null  datetime64[ns]\n",
      " 3   new_cases_smoothed              339198 non-null  float64       \n",
      " 4   new_deaths_smoothed             339281 non-null  float64       \n",
      " 5   reproduction_rate               184817 non-null  float64       \n",
      " 6   icu_patients                    37615 non-null   float64       \n",
      " 7   hosp_patients                   38902 non-null   float64       \n",
      " 8   new_tests_smoothed              103965 non-null  float64       \n",
      " 9   positive_rate                   95927 non-null   float64       \n",
      " 10  tests_units                     106788 non-null  object        \n",
      " 11  people_vaccinated               75911 non-null   float64       \n",
      " 12  new_people_vaccinated_smoothed  180489 non-null  float64       \n",
      " 13  total_boosters                  47562 non-null   float64       \n",
      " 14  new_vaccinations_smoothed       180718 non-null  float64       \n",
      " 15  stringency_index                197651 non-null  float64       \n",
      " 16  population_density              297178 non-null  float64       \n",
      " 17  median_age                      276367 non-null  float64       \n",
      " 18  aged_70_older                   273597 non-null  float64       \n",
      " 19  gdp_per_capita                  270863 non-null  float64       \n",
      " 20  extreme_poverty                 174561 non-null  float64       \n",
      " 21  cardiovasc_death_rate           271487 non-null  float64       \n",
      " 22  diabetes_prevalence             285303 non-null  float64       \n",
      " 23  female_smokers                  203659 non-null  float64       \n",
      " 24  male_smokers                    200889 non-null  float64       \n",
      " 25  handwashing_facilities          132973 non-null  float64       \n",
      " 26  hospital_beds_per_thousand      239669 non-null  float64       \n",
      " 27  life_expectancy                 322072 non-null  float64       \n",
      " 28  human_development_index         263138 non-null  float64       \n",
      " 29  population                      350085 non-null  float64       \n",
      " 30  latitude                        294952 non-null  float64       \n",
      " 31  longitude                       294952 non-null  float64       \n",
      " 32  country                         294952 non-null  object        \n",
      "dtypes: datetime64[ns](1), float64(28), object(4)\n",
      "memory usage: 90.8+ MB\n"
     ]
    }
   ],
   "source": [
    "df2.info()"
   ]
  },
  {
   "cell_type": "code",
   "execution_count": 10,
   "metadata": {},
   "outputs": [],
   "source": [
    "# Drop not countries\n",
    "loc_to_drop = ['Africa', 'Asia', 'Europe', 'European Union', 'High income', \n",
    "               'Low income', 'Lower middle income', 'North America', 'Oceania', \n",
    "               'South America', 'Upper middle income', 'World']\n",
    "\n",
    "df2 = df2[~df2['location'].isin(loc_to_drop)]"
   ]
  },
  {
   "cell_type": "code",
   "execution_count": 11,
   "metadata": {
    "scrolled": false
   },
   "outputs": [
    {
     "name": "stderr",
     "output_type": "stream",
     "text": [
      "<ipython-input-11-60455037b984>:7: FutureWarning: The geopandas.dataset module is deprecated and will be removed in GeoPandas 1.0. You can get the original 'naturalearth_lowres' data from https://www.naturalearthdata.com/downloads/110m-cultural-vectors/.\n",
      "  world = gpd.read_file(gpd.datasets.get_path('naturalearth_lowres'))\n"
     ]
    },
    {
     "data": {
      "image/png": "[encoded data removed]",
      "text/plain": [
       "<Figure size 720x432 with 1 Axes>"
      ]
     },
     "metadata": {},
     "output_type": "display_data"
    }
   ],
   "source": [
    "# https://stackoverflow.com/a/53233489\n",
    "\n",
    "geometry = [Point(xy) for xy in zip(df2['longitude'], df2['latitude'])]\n",
    "gdf = GeoDataFrame(df2[['longitude', 'latitude']], geometry=geometry)   \n",
    "\n",
    "# this is a simple map that goes with geopandas\n",
    "world = gpd.read_file(gpd.datasets.get_path('naturalearth_lowres'))\n",
    "gdf.plot(ax=world.plot(figsize=(10, 6)), marker='o', color='red', markersize=15);"
   ]
  },
  {
   "cell_type": "markdown",
   "metadata": {},
   "source": [
    "Talk about choice here to use the different continents as the different zones based off map -- countries in which we have data points from."
   ]
  },
  {
   "cell_type": "code",
   "execution_count": 12,
   "metadata": {},
   "outputs": [],
   "source": [
    "# Drop non-countries from df1\n",
    "df1 = df1[~df1['location'].isin(loc_to_drop)]"
   ]
  },
  {
   "cell_type": "code",
   "execution_count": 13,
   "metadata": {},
   "outputs": [
    {
     "data": {
      "text/plain": [
       "0"
      ]
     },
     "execution_count": 13,
     "metadata": {},
     "output_type": "execute_result"
    }
   ],
   "source": [
    "df1['continent'].isna().sum()"
   ]
  },
  {
   "cell_type": "code",
   "execution_count": 14,
   "metadata": {},
   "outputs": [
    {
     "data": {
      "text/plain": [
       "array(['Asia', 'Europe', 'Africa', 'Oceania', 'North America',\n",
       "       'South America'], dtype=object)"
      ]
     },
     "execution_count": 14,
     "metadata": {},
     "output_type": "execute_result"
    }
   ],
   "source": [
    "df1['continent'].unique()"
   ]
  },
  {
   "cell_type": "code",
   "execution_count": 50,
   "metadata": {},
   "outputs": [],
   "source": [
    "# Create the different dataframes that we will use for modeling\n",
    "\n",
    "df_asia = df1[df1['continent'] == 'Asia']\n",
    "df_eu = df1[df1['continent'] == 'Europe']\n",
    "df_af = df1[df1['continent'] == 'Africa']\n",
    "df_oc = df1[df1['continent'] == 'Oceania']\n",
    "df_na = df1[df1['continent'] == 'North America']\n",
    "df_sa = df1[df1['continent'] == 'South America']"
   ]
  },
  {
   "cell_type": "code",
   "execution_count": 43,
   "metadata": {},
   "outputs": [
    {
     "name": "stdout",
     "output_type": "stream",
     "text": [
      "Asia 610565\n",
      "Europe 764416\n",
      "Africa 759079\n",
      "Oceana 515862\n",
      "North America 792359\n",
      "South America 185857\n"
     ]
    }
   ],
   "source": [
    "data = [('Asia', df_asia), ('Europe', df_eu), ('Africa', df_af), \n",
    "        ('Oceana', df_oc), ('North America', df_na), ('South America', df_sa)]\n",
    "\n",
    "for (name, df) in data:\n",
    "    nulls = df.isna().sum().sum()\n",
    "    print(name, nulls)"
   ]
  },
  {
   "cell_type": "code",
   "execution_count": 44,
   "metadata": {
    "scrolled": true
   },
   "outputs": [
    {
     "data": {
      "image/png": "[encoded data removed]",
      "text/plain": [
       "<Figure size 720x432 with 1 Axes>"
      ]
     },
     "metadata": {},
     "output_type": "display_data"
    }
   ],
   "source": [
    "df2_asia = df2[df2['continent'] == 'Asia']\n",
    "\n",
    "geometry = [Point(xy) for xy in zip(df2_asia['longitude'], df2_asia['latitude'])]\n",
    "gdf = GeoDataFrame(df2_asia[['longitude', 'latitude']], geometry=geometry)\n",
    "\n",
    "asia = world[world['continent'] == 'Asia']\n",
    "gdf.plot(ax=asia.plot(figsize=(10, 6)), marker='o', color='red', markersize=15);"
   ]
  },
  {
   "cell_type": "code",
   "execution_count": 45,
   "metadata": {},
   "outputs": [
    {
     "name": "stdout",
     "output_type": "stream",
     "text": [
      "new_cases_smoothed 6.4%\n",
      "new_deaths_smoothed 6.4%\n",
      "reproduction_rate 33.9%\n",
      "icu_patients 94.9%\n",
      "hosp_patients 96.0%\n",
      "new_tests_smoothed 61.2%\n",
      "positive_rate 64.5%\n",
      "tests_units 60.5%\n",
      "people_vaccinated 75.0%\n",
      "new_people_vaccinated_smoothed 44.4%\n",
      "total_boosters 86.9%\n",
      "new_vaccinations_smoothed 44.3%\n",
      "stringency_index 26.4%\n",
      "population_density 4.9%\n",
      "median_age 1.0%\n",
      "aged_70_older 1.0%\n",
      "gdp_per_capita 6.9%\n",
      "extreme_poverty 44.0%\n",
      "cardiovasc_death_rate 4.0%\n",
      "diabetes_prevalence 6.1%\n",
      "female_smokers 24.0%\n",
      "male_smokers 24.0%\n",
      "handwashing_facilities 48.0%\n",
      "hospital_beds_per_thousand 10.0%\n",
      "life_expectancy 1.0%\n",
      "human_development_index 6.1%\n"
     ]
    }
   ],
   "source": [
    "# Check percent missing by variable\n",
    "num_rows = len(df_asia['date'])\n",
    "for var in df_asia.columns:\n",
    "    missing = df_asia[var].isna().sum()\n",
    "    if missing > 0:\n",
    "        print(var, '{}%'.format(round(missing/num_rows*100, 1)))"
   ]
  },
  {
   "cell_type": "code",
   "execution_count": 83,
   "metadata": {},
   "outputs": [],
   "source": [
    "# Check percent missing by country\n",
    "for country in df_asia['location'].unique():\n",
    "    mask = df_asia['location'] == country\n",
    "    num_cells = len(df_asia[mask]) * 30\n",
    "    missing = df_asia[mask].isna().sum().sum()\n",
    "    percent = round(missing/num_cells*100, 1)\n",
    "    if percent > 40:\n",
    "        print(country, '{}%'.format(percent))"
   ]
  },
  {
   "cell_type": "code",
   "execution_count": 51,
   "metadata": {},
   "outputs": [],
   "source": [
    "# Based on above, drop\n",
    "    # Country: Northern Cyprus, Hong Kong, and Macao (maybe North Korea too)\n",
    "    # Variable: icu_patients, hosp_patients, and total_boosters (maybe positive_rate, new_tests_smoothed, and test_units too)\n",
    "\n",
    "# Drop countries\n",
    "mask = (df_asia['location'] == 'Northern Cyprus') | (df_asia['location'] == 'Hong Kong') | (df_asia['location'] == 'Macao')\n",
    "df_asia = df_asia[~mask]\n",
    "    \n",
    "# Drop variables\n",
    "col_to_drop = ['icu_patients', 'hosp_patients', 'new_tests_smoothed', 'positive_rate', 'tests_units',\n",
    "              'new_people_vaccinated_smoothed', 'total_boosters', 'extreme_poverty', 'handwashing_facilities']\n",
    "df_asia = df_asia.drop(col_to_drop, axis=1)"
   ]
  },
  {
   "cell_type": "code",
   "execution_count": 52,
   "metadata": {},
   "outputs": [
    {
     "name": "stdout",
     "output_type": "stream",
     "text": [
      "new_cases_smoothed 2.5%\n",
      "new_deaths_smoothed 2.4%\n",
      "reproduction_rate 31.1%\n",
      "people_vaccinated 76.0%\n",
      "new_vaccinations_smoothed 45.6%\n",
      "stringency_index 25.9%\n",
      "population_density 4.1%\n",
      "gdp_per_capita 6.2%\n",
      "diabetes_prevalence 4.1%\n",
      "female_smokers 20.8%\n",
      "male_smokers 20.8%\n",
      "hospital_beds_per_thousand 6.2%\n",
      "human_development_index 4.1%\n"
     ]
    }
   ],
   "source": [
    "# Recheck missing values be variable\n",
    "num_rows = len(df_asia['date'])\n",
    "for var in df_asia.columns:\n",
    "    missing = df_asia[var].isna().sum()\n",
    "    if missing > 0:\n",
    "        print(var, '{}%'.format(round(missing/num_rows*100, 1)))"
   ]
  },
  {
   "cell_type": "code",
   "execution_count": 53,
   "metadata": {},
   "outputs": [
    {
     "name": "stdout",
     "output_type": "stream",
     "text": [
      "North Korea 26.7%\n",
      "Syria 23.1%\n",
      "Taiwan 34.4%\n"
     ]
    }
   ],
   "source": [
    "# Recheck missing values by country\n",
    "for country in df_asia['location'].unique():\n",
    "    mask = df_asia['location'] == country\n",
    "    num_cells = len(df_asia[mask]) * 30\n",
    "    missing = df_asia[mask].isna().sum().sum()\n",
    "    percent = round(missing/num_cells*100, 1)\n",
    "    if percent > 20:\n",
    "        print(country, '{}%'.format(percent))"
   ]
  },
  {
   "cell_type": "markdown",
   "metadata": {},
   "source": [
    "| Variable | How to Handel missing values | \n",
    "|:---|:--|\n",
    "| `new_cases_smoothed` | Input 0.  NaN only entered when negative values present due to corrective reporting. | \n",
    "| `new_deaths_smoothed` | Input 0. NaN only entered when negative values present due to corrective reporting. | \n",
    "| `reproduction_rate` | Backward fill by country. | \n",
    "| `people_vaccinated` | Forward fill for missing values after vaccine released by country. | \n",
    "| `new_vaccinations_smoothed` | Input 0. Missing values prior to vaccine release date are 0. Assume no new vaccinations or reporting error for NaN values after vaccine date. | \n",
    "| `stringency_index` | By country, forward fill. Assuming a missing value means it was not reported and no change between previous assigned value. | \n",
    "| `population_density` | By country, fill with average value.  If country missing all values, see if can research and input. |\n",
    "| `gdp_per_capita` | Fill with average. | \n",
    "| `diabetes_prevalence` | Fill with average. |\n",
    "| `female_smokers` | Fill with average. |\n",
    "| `male_smokers` | Fill with average. | \n",
    "| `hospital_beds_per_thousand` | Fill with average. | \n",
    "| `human_development_index` | Fill with average. | "
   ]
  },
  {
   "cell_type": "code",
   "execution_count": 54,
   "metadata": {},
   "outputs": [],
   "source": [
    "# Input 0 for assigned columns\n",
    "fill_values = {'new_cases_smoothed' : 0, 'new_deaths_smoothed':0, 'new_vaccinations_smoothed':0}\n",
    "df_asia.fillna(fill_values, inplace=True)"
   ]
  },
  {
   "cell_type": "code",
   "execution_count": 55,
   "metadata": {},
   "outputs": [],
   "source": [
    "# Reproduction Rate - Back Fill by country -- forward fill the last\n",
    "for country in df_asia['location'].unique():\n",
    "    mask = df_asia['location'] == country\n",
    "    df_asia.loc[mask, 'reproduction_rate'] = df_asia.loc[mask, 'reproduction_rate'].bfill().ffill()"
   ]
  },
  {
   "cell_type": "code",
   "execution_count": 56,
   "metadata": {},
   "outputs": [
    {
     "data": {
      "text/plain": [
       "2770"
      ]
     },
     "execution_count": 56,
     "metadata": {},
     "output_type": "execute_result"
    }
   ],
   "source": [
    "# Check for still missing\n",
    "df_asia['reproduction_rate'].isna().sum()"
   ]
  },
  {
   "cell_type": "code",
   "execution_count": 57,
   "metadata": {},
   "outputs": [
    {
     "data": {
      "text/plain": [
       "array(['North Korea', 'Turkmenistan'], dtype=object)"
      ]
     },
     "execution_count": 57,
     "metadata": {},
     "output_type": "execute_result"
    }
   ],
   "source": [
    "# Countries where variable never reported:\n",
    "df_asia[df_asia['reproduction_rate'].isna()]['location'].unique()"
   ]
  },
  {
   "cell_type": "code",
   "execution_count": 58,
   "metadata": {},
   "outputs": [],
   "source": [
    "# When aggregate to single data row per day for continent, will take average. \n",
    "# For contries where reproduction rate never reported -- take average for given date of continent and input\n",
    "\n",
    "for date in df_asia['date'].unique():\n",
    "    avg = np.mean(df_asia[df_asia['date'] == date]['reproduction_rate'])\n",
    "    for country in df_asia[df_asia['reproduction_rate'].isna()]['location'].unique():\n",
    "        mask = (df_asia['location'] == country) & (df_asia['date'] == date)\n",
    "        df_asia.loc[mask, 'reproduction_rate'] = avg"
   ]
  },
  {
   "cell_type": "code",
   "execution_count": 59,
   "metadata": {},
   "outputs": [
    {
     "data": {
      "text/plain": [
       "0"
      ]
     },
     "execution_count": 59,
     "metadata": {},
     "output_type": "execute_result"
    }
   ],
   "source": [
    "df_asia['reproduction_rate'].isna().sum()"
   ]
  },
  {
   "cell_type": "code",
   "execution_count": 60,
   "metadata": {},
   "outputs": [
    {
     "name": "stdout",
     "output_type": "stream",
     "text": [
      "North Korea never reported on number of people vaccinated.\n"
     ]
    }
   ],
   "source": [
    "# People Vaccinated -- Forward fill by country (start with 0)\n",
    "\n",
    "for country in df_asia['location'].unique():\n",
    "    mask = df_asia['location'] == country\n",
    "    df_asia.loc[mask, 'people_vaccinated'] = df_asia.loc[mask, 'people_vaccinated'].ffill()\n",
    "    \n",
    "    # check if never reported for each country\n",
    "    date_last_null = df_asia.loc[(mask) & (df_asia['people_vaccinated'].isna()), 'date'][-1:]\n",
    "    if date_last_null.item() < df_asia[mask]['date'].max():\n",
    "        df_asia.loc[mask, 'people_vaccinated'] = df_asia.loc[mask, 'people_vaccinated'].fillna(0)\n",
    "    else:\n",
    "        print(country, 'never reported on number of people vaccinated.')"
   ]
  },
  {
   "cell_type": "code",
   "execution_count": 61,
   "metadata": {},
   "outputs": [],
   "source": [
    "# Going to move forward with inputting 0 for all of North Korea values for people vaccinated\n",
    "    # This will artificially deflate the variable by a small amount, but seeing as North Korea did \n",
    "    # not start vaccinating people until the summer of 2022, and we cannot reasonably take a mean nor\n",
    "    # median do to varying sizes in country population, this is the best solution\n",
    "    \n",
    "df_asia['people_vaccinated'].fillna(0, inplace=True)"
   ]
  },
  {
   "cell_type": "code",
   "execution_count": 84,
   "metadata": {},
   "outputs": [
    {
     "data": {
      "text/plain": [
       "0"
      ]
     },
     "execution_count": 84,
     "metadata": {},
     "output_type": "execute_result"
    }
   ],
   "source": [
    "# stringency_index\n",
    "df_asia['stringency_index'].isna().sum()"
   ]
  },
  {
   "cell_type": "code",
   "execution_count": 63,
   "metadata": {},
   "outputs": [
    {
     "data": {
      "image/png": "[encoded data removed]",
      "text/plain": [
       "<Figure size 432x288 with 1 Axes>"
      ]
     },
     "metadata": {},
     "output_type": "display_data"
    }
   ],
   "source": [
    "y = []\n",
    "for date in df_asia['date'].unique():\n",
    "    y.append(df_asia[df_asia['date'] == date]['stringency_index'].isna().sum())\n",
    "    \n",
    "plt.plot(df_asia['date'].unique(), y)\n",
    "plt.set_title('Number of Missing Values')\n",
    "plt.;"
   ]
  },
  {
   "cell_type": "code",
   "execution_count": 64,
   "metadata": {},
   "outputs": [
    {
     "data": {
      "image/png": "[encoded data removed]",
      "text/plain": [
       "<Figure size 432x288 with 1 Axes>"
      ]
     },
     "metadata": {},
     "output_type": "display_data"
    }
   ],
   "source": [
    "y = []\n",
    "for date in df_asia['date'].unique():\n",
    "    avg = np.mean(df_asia[df_asia['date'] == date]['stringency_index'])\n",
    "    y.append(avg)\n",
    "    \n",
    "plt.plot(df_asia['date'].unique(), y);"
   ]
  },
  {
   "cell_type": "code",
   "execution_count": 65,
   "metadata": {},
   "outputs": [],
   "source": [
    "# While realistically, when this stopped being reported in 2023, most contries dropped all Covid-19 restrictions\n",
    "    # which would drop this stringency index down to zero, we will move forward with forward filling nulls\n",
    "    # and taking an average per day for countries that did not report (since this value will be averaged when\n",
    "    # taking aggregate for the continent)\n",
    "    \n",
    "for country in df_asia['location'].unique():\n",
    "    mask = df_asia['location'] == country\n",
    "    df_asia.loc[mask, 'stringency_index'] = df_asia.loc[mask, 'stringency_index'].ffill()"
   ]
  },
  {
   "cell_type": "code",
   "execution_count": 66,
   "metadata": {},
   "outputs": [
    {
     "data": {
      "text/plain": [
       "4155"
      ]
     },
     "execution_count": 66,
     "metadata": {},
     "output_type": "execute_result"
    }
   ],
   "source": [
    "df_asia['stringency_index'].isna().sum()"
   ]
  },
  {
   "cell_type": "code",
   "execution_count": 67,
   "metadata": {},
   "outputs": [
    {
     "data": {
      "text/plain": [
       "array(['Armenia', 'Maldives', 'North Korea'], dtype=object)"
      ]
     },
     "execution_count": 67,
     "metadata": {},
     "output_type": "execute_result"
    }
   ],
   "source": [
    "# Countries that never reported stringency index:\n",
    "df_asia[df_asia['stringency_index'].isna()]['location'].unique()"
   ]
  },
  {
   "cell_type": "code",
   "execution_count": 68,
   "metadata": {},
   "outputs": [],
   "source": [
    "# For the countries that never reported we will put the average for the day in -- this value will be averaged in aggregate\n",
    "for date in df_asia['date'].unique():\n",
    "    avg = np.mean(df_asia[df_asia['date'] == date]['stringency_index'])\n",
    "    for country in df_asia[df_asia['stringency_index'].isna()]['location'].unique():\n",
    "        mask = (df_asia['location'] == country) & (df_asia['date'] == date)\n",
    "        df_asia.loc[mask, 'stringency_index'] = avg"
   ]
  },
  {
   "cell_type": "code",
   "execution_count": 69,
   "metadata": {},
   "outputs": [
    {
     "data": {
      "text/plain": [
       "0"
      ]
     },
     "execution_count": 69,
     "metadata": {},
     "output_type": "execute_result"
    }
   ],
   "source": [
    "df_asia['stringency_index'].isna().sum()"
   ]
  },
  {
   "cell_type": "code",
   "execution_count": 70,
   "metadata": {},
   "outputs": [
    {
     "data": {
      "text/plain": [
       "array(['Syria', 'Taiwan'], dtype=object)"
      ]
     },
     "execution_count": 70,
     "metadata": {},
     "output_type": "execute_result"
    }
   ],
   "source": [
    "# Population Density\n",
    "df_asia[df_asia['population_density'].isna()]['location'].unique()"
   ]
  },
  {
   "cell_type": "code",
   "execution_count": 71,
   "metadata": {},
   "outputs": [],
   "source": [
    "# Syria - 113 in 2020 -- use for all\n",
    "    # https://worldpopulationreview.com/countries/syria-population\n",
    "mask = df_asia['location'] == 'Syria'    \n",
    "df_asia.loc[mask, 'population_density'] = df_asia.loc[mask, 'population_density'].fillna(113)\n",
    "\n",
    "# Taiwan - 673\n",
    "    # https://worldpopulationreview.com/countries/taiwan-population\n",
    "mask = df_asia['location'] == 'Taiwan'    \n",
    "df_asia.loc[mask, 'population_density'] = df_asia.loc[mask, 'population_density'].fillna(673)"
   ]
  },
  {
   "cell_type": "code",
   "execution_count": 72,
   "metadata": {},
   "outputs": [
    {
     "data": {
      "text/plain": [
       "0"
      ]
     },
     "execution_count": 72,
     "metadata": {},
     "output_type": "execute_result"
    }
   ],
   "source": [
    "df_asia['population_density'].isna().sum()"
   ]
  },
  {
   "cell_type": "code",
   "execution_count": 81,
   "metadata": {},
   "outputs": [],
   "source": [
    "# For static numbers for country, fill missing countries with continent average\n",
    "fill_avg = ['gdp_per_capita', 'diabetes_prevalence', 'female_smokers', \n",
    "            'male_smokers', 'hospital_beds_per_thousand', 'human_development_index']\n",
    "\n",
    "for var in fill_avg:\n",
    "    df_asia.loc[:, var] = df_asia.loc[:, var].fillna(np.mean(df_asia[var]))"
   ]
  },
  {
   "cell_type": "code",
   "execution_count": null,
   "metadata": {},
   "outputs": [],
   "source": []
  },
  {
   "cell_type": "code",
   "execution_count": null,
   "metadata": {},
   "outputs": [],
   "source": []
  },
  {
   "cell_type": "code",
   "execution_count": null,
   "metadata": {},
   "outputs": [],
   "source": []
  },
  {
   "cell_type": "code",
   "execution_count": null,
   "metadata": {},
   "outputs": [],
   "source": []
  },
  {
   "cell_type": "code",
   "execution_count": null,
   "metadata": {},
   "outputs": [],
   "source": []
  },
  {
   "cell_type": "code",
   "execution_count": null,
   "metadata": {},
   "outputs": [],
   "source": []
  },
  {
   "cell_type": "markdown",
   "metadata": {},
   "source": [
    "For Each Zone:\n",
    "- Graph -- note date of vaccine release??\n",
    "    - number of deaths against time\n",
    "    - number of cases against time\n",
    "    - number of recoveries against time\n",
    "- ACF and PACFf\n",
    "- Seasonality?"
   ]
  },
  {
   "cell_type": "code",
   "execution_count": null,
   "metadata": {},
   "outputs": [],
   "source": []
  },
  {
   "cell_type": "markdown",
   "metadata": {},
   "source": [
    "# Modeling\n",
    "\n",
    "- Baseline --> naive forecasting (data shifted by one time-step)\n",
    "- ARIMA and/or SARIMA\n",
    "- grid search/pmdarima.auto_arima (?) "
   ]
  },
  {
   "cell_type": "markdown",
   "metadata": {},
   "source": [
    "## Basline  \n",
    "\n",
    "- One shift"
   ]
  },
  {
   "cell_type": "markdown",
   "metadata": {},
   "source": [
    "## Model 2"
   ]
  },
  {
   "cell_type": "markdown",
   "metadata": {},
   "source": [
    "## Model 3"
   ]
  },
  {
   "cell_type": "markdown",
   "metadata": {},
   "source": [
    "## All Model Comparison"
   ]
  },
  {
   "cell_type": "markdown",
   "metadata": {},
   "source": [
    "# Final Model Evaluation"
   ]
  },
  {
   "cell_type": "markdown",
   "metadata": {},
   "source": [
    "# Conclusion + Recommendations"
   ]
  }
 ],
 "metadata": {
  "kernelspec": {
   "display_name": "Python (learn-env)",
   "language": "python",
   "name": "learn-env"
  },
  "language_info": {
   "codemirror_mode": {
    "name": "ipython",
    "version": 3
   },
   "file_extension": ".py",
   "mimetype": "text/x-python",
   "name": "python",
   "nbconvert_exporter": "python",
   "pygments_lexer": "ipython3",
   "version": "3.8.5"
  }
 },
 "nbformat": 4,
 "nbformat_minor": 4
}
